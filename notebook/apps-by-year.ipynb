{
 "cells": [
  {
   "cell_type": "code",
   "execution_count": 210,
   "metadata": {
    "collapsed": false
   },
   "outputs": [],
   "source": [
    "# Plotlyoffline mode\n",
    "from plotly.offline import download_plotlyjs, init_notebook_mode, iplot\n",
    "init_notebook_mode()\n",
    "from plotly.graph_objs import *\n",
    "# Ipython\n",
    "from IPython.display import Markdown, HTML\n",
    "from IPython.display import display, Image\n",
    "# Pandas\n",
    "import pandas as pd\n",
    "# python modules\n",
    "from pandas.io.json import json_normalize\n",
    "import json"
   ]
  },
  {
   "cell_type": "code",
   "execution_count": 129,
   "metadata": {
    "collapsed": true
   },
   "outputs": [],
   "source": [
    "# Opens and normalizes the JSON file.\n",
    "# Then, it renames our columns and changes the type of the date column to datetime.\n",
    "def normalizeDataFrame(file_name):\n",
    "    # 1- Open and normalize the JSON file.\n",
    "    with open(file_name) as content:\n",
    "        data = json.load(content)\n",
    "    df = json_normalize(data)\n",
    "    # 2- Change the type of the date column to datetime.\n",
    "    df['listing.rDate'] = pd.to_datetime(df['listing.rDate'])\n",
    "    return df"
   ]
  },
  {
   "cell_type": "code",
   "execution_count": 130,
   "metadata": {
    "collapsed": false
   },
   "outputs": [
    {
     "data": {
      "text/html": [
       "<h1>App versions released in 2014: </h1>"
      ],
      "text/plain": [
       "<IPython.core.display.HTML object>"
      ]
     },
     "metadata": {},
     "output_type": "display_data"
    },
    {
     "data": {
      "text/plain": [
       "56851"
      ]
     },
     "execution_count": 130,
     "metadata": {},
     "output_type": "execute_result"
    }
   ],
   "source": [
    "df14 = normalizeDataFrame('../data/apps-by-year/released_in_2014.json')\n",
    "display(HTML('<h1>App versions released in 2014: </h1>'))\n",
    "len(df14)"
   ]
  },
  {
   "cell_type": "code",
   "execution_count": 131,
   "metadata": {
    "collapsed": false
   },
   "outputs": [
    {
     "data": {
      "text/html": [
       "<div>\n",
       "<table border=\"1\" class=\"dataframe\">\n",
       "  <thead>\n",
       "    <tr style=\"text-align: right;\">\n",
       "      <th></th>\n",
       "      <th>id</th>\n",
       "      <th>listing.rDate</th>\n",
       "      <th>listing.rating</th>\n",
       "      <th>packageName</th>\n",
       "      <th>versionCode</th>\n",
       "      <th>versionName</th>\n",
       "    </tr>\n",
       "  </thead>\n",
       "  <tbody>\n",
       "    <tr>\n",
       "      <th>0</th>\n",
       "      <td>NoamStudios.Games.MegaTicTacToeFree-18</td>\n",
       "      <td>2014-09-01</td>\n",
       "      <td>4.000000</td>\n",
       "      <td>NoamStudios.Games.MegaTicTacToeFree</td>\n",
       "      <td>18</td>\n",
       "      <td>2.5</td>\n",
       "    </tr>\n",
       "    <tr>\n",
       "      <th>1</th>\n",
       "      <td>Air.Lite-2</td>\n",
       "      <td>2014-06-17</td>\n",
       "      <td>4.200000</td>\n",
       "      <td>Air.Lite</td>\n",
       "      <td>2</td>\n",
       "      <td>1.1</td>\n",
       "    </tr>\n",
       "    <tr>\n",
       "      <th>2</th>\n",
       "      <td>Ibtikar.Applications.Ibaloot-1200009</td>\n",
       "      <td>2014-06-19</td>\n",
       "      <td>3.995383</td>\n",
       "      <td>Ibtikar.Applications.Ibaloot</td>\n",
       "      <td>1200009</td>\n",
       "      <td>4.3</td>\n",
       "    </tr>\n",
       "    <tr>\n",
       "      <th>3</th>\n",
       "      <td>Jobkorea.AlbamonMJ-54</td>\n",
       "      <td>2014-01-22</td>\n",
       "      <td>3.869911</td>\n",
       "      <td>Jobkorea.AlbamonMJ</td>\n",
       "      <td>54</td>\n",
       "      <td>2.4.2</td>\n",
       "    </tr>\n",
       "    <tr>\n",
       "      <th>4</th>\n",
       "      <td>PocketGest.PocketGest-25</td>\n",
       "      <td>2014-10-07</td>\n",
       "      <td>3.131579</td>\n",
       "      <td>PocketGest.PocketGest</td>\n",
       "      <td>25</td>\n",
       "      <td>2.9.6</td>\n",
       "    </tr>\n",
       "  </tbody>\n",
       "</table>\n",
       "</div>"
      ],
      "text/plain": [
       "                                       id listing.rDate  listing.rating  \\\n",
       "0  NoamStudios.Games.MegaTicTacToeFree-18    2014-09-01        4.000000   \n",
       "1                              Air.Lite-2    2014-06-17        4.200000   \n",
       "2    Ibtikar.Applications.Ibaloot-1200009    2014-06-19        3.995383   \n",
       "3                   Jobkorea.AlbamonMJ-54    2014-01-22        3.869911   \n",
       "4                PocketGest.PocketGest-25    2014-10-07        3.131579   \n",
       "\n",
       "                           packageName  versionCode versionName  \n",
       "0  NoamStudios.Games.MegaTicTacToeFree           18         2.5  \n",
       "1                             Air.Lite            2         1.1  \n",
       "2         Ibtikar.Applications.Ibaloot      1200009         4.3  \n",
       "3                   Jobkorea.AlbamonMJ           54       2.4.2  \n",
       "4                PocketGest.PocketGest           25       2.9.6  "
      ]
     },
     "execution_count": 131,
     "metadata": {},
     "output_type": "execute_result"
    }
   ],
   "source": [
    "df14.head()"
   ]
  },
  {
   "cell_type": "code",
   "execution_count": 132,
   "metadata": {
    "collapsed": false
   },
   "outputs": [
    {
     "data": {
      "text/html": [
       "<div>\n",
       "<table border=\"1\" class=\"dataframe\">\n",
       "  <thead>\n",
       "    <tr style=\"text-align: right;\">\n",
       "      <th></th>\n",
       "      <th>id</th>\n",
       "      <th>listing.rDate</th>\n",
       "      <th>listing.rating</th>\n",
       "      <th>packageName</th>\n",
       "      <th>versionCode</th>\n",
       "      <th>versionName</th>\n",
       "    </tr>\n",
       "  </thead>\n",
       "  <tbody>\n",
       "    <tr>\n",
       "      <th>4</th>\n",
       "      <td>PocketGest.PocketGest-25</td>\n",
       "      <td>2014-10-07</td>\n",
       "      <td>3.131579</td>\n",
       "      <td>PocketGest.PocketGest</td>\n",
       "      <td>25</td>\n",
       "      <td>2.9.6</td>\n",
       "    </tr>\n",
       "    <tr>\n",
       "      <th>19</th>\n",
       "      <td>PocketGest.PocketGest-21</td>\n",
       "      <td>2014-09-10</td>\n",
       "      <td>3.027778</td>\n",
       "      <td>PocketGest.PocketGest</td>\n",
       "      <td>21</td>\n",
       "      <td>2.9.2</td>\n",
       "    </tr>\n",
       "  </tbody>\n",
       "</table>\n",
       "</div>"
      ],
      "text/plain": [
       "                          id listing.rDate  listing.rating  \\\n",
       "4   PocketGest.PocketGest-25    2014-10-07        3.131579   \n",
       "19  PocketGest.PocketGest-21    2014-09-10        3.027778   \n",
       "\n",
       "              packageName  versionCode versionName  \n",
       "4   PocketGest.PocketGest           25       2.9.6  \n",
       "19  PocketGest.PocketGest           21       2.9.2  "
      ]
     },
     "execution_count": 132,
     "metadata": {},
     "output_type": "execute_result"
    }
   ],
   "source": [
    "df14[df14['packageName'] == 'PocketGest.PocketGest']"
   ]
  },
  {
   "cell_type": "code",
   "execution_count": 133,
   "metadata": {
    "collapsed": false
   },
   "outputs": [
    {
     "data": {
      "text/html": [
       "<div>\n",
       "<table border=\"1\" class=\"dataframe\">\n",
       "  <thead>\n",
       "    <tr style=\"text-align: right;\">\n",
       "      <th></th>\n",
       "      <th>id</th>\n",
       "      <th>listing.rDate</th>\n",
       "      <th>listing.rating</th>\n",
       "      <th>versionCode</th>\n",
       "      <th>versionName</th>\n",
       "    </tr>\n",
       "    <tr>\n",
       "      <th>packageName</th>\n",
       "      <th></th>\n",
       "      <th></th>\n",
       "      <th></th>\n",
       "      <th></th>\n",
       "      <th></th>\n",
       "    </tr>\n",
       "  </thead>\n",
       "  <tbody>\n",
       "    <tr>\n",
       "      <th>Air.Lite</th>\n",
       "      <td>Air.Lite-2</td>\n",
       "      <td>2014-06-17</td>\n",
       "      <td>4.200000</td>\n",
       "      <td>2</td>\n",
       "      <td>1.1</td>\n",
       "    </tr>\n",
       "    <tr>\n",
       "      <th>Alfasoft.Widgets.SweetYorkshireAnalogClock</th>\n",
       "      <td>Alfasoft.Widgets.SweetYorkshireAnalogClock-2</td>\n",
       "      <td>2014-01-18</td>\n",
       "      <td>3.900000</td>\n",
       "      <td>2</td>\n",
       "      <td>1.1</td>\n",
       "    </tr>\n",
       "    <tr>\n",
       "      <th>AutomateIt.mainPackage</th>\n",
       "      <td>AutomateIt.mainPackage-84</td>\n",
       "      <td>2014-01-14</td>\n",
       "      <td>4.281773</td>\n",
       "      <td>84</td>\n",
       "      <td>3.0.84</td>\n",
       "    </tr>\n",
       "    <tr>\n",
       "      <th>B4A.Agroid_software</th>\n",
       "      <td>B4A.Agroid_software-2010</td>\n",
       "      <td>2014-03-20</td>\n",
       "      <td>3.909091</td>\n",
       "      <td>2010</td>\n",
       "      <td>2.0.10</td>\n",
       "    </tr>\n",
       "    <tr>\n",
       "      <th>Busan.Subway.f7key.Cauly</th>\n",
       "      <td>Busan.Subway.f7key.Cauly-78</td>\n",
       "      <td>2014-01-08</td>\n",
       "      <td>4.253991</td>\n",
       "      <td>78</td>\n",
       "      <td>1.5.4</td>\n",
       "    </tr>\n",
       "  </tbody>\n",
       "</table>\n",
       "</div>"
      ],
      "text/plain": [
       "                                                                                      id  \\\n",
       "packageName                                                                                \n",
       "Air.Lite                                                                      Air.Lite-2   \n",
       "Alfasoft.Widgets.SweetYorkshireAnalogClock  Alfasoft.Widgets.SweetYorkshireAnalogClock-2   \n",
       "AutomateIt.mainPackage                                         AutomateIt.mainPackage-84   \n",
       "B4A.Agroid_software                                             B4A.Agroid_software-2010   \n",
       "Busan.Subway.f7key.Cauly                                     Busan.Subway.f7key.Cauly-78   \n",
       "\n",
       "                                           listing.rDate  listing.rating  \\\n",
       "packageName                                                                \n",
       "Air.Lite                                      2014-06-17        4.200000   \n",
       "Alfasoft.Widgets.SweetYorkshireAnalogClock    2014-01-18        3.900000   \n",
       "AutomateIt.mainPackage                        2014-01-14        4.281773   \n",
       "B4A.Agroid_software                           2014-03-20        3.909091   \n",
       "Busan.Subway.f7key.Cauly                      2014-01-08        4.253991   \n",
       "\n",
       "                                            versionCode versionName  \n",
       "packageName                                                          \n",
       "Air.Lite                                              2         1.1  \n",
       "Alfasoft.Widgets.SweetYorkshireAnalogClock            2         1.1  \n",
       "AutomateIt.mainPackage                               84      3.0.84  \n",
       "B4A.Agroid_software                                2010      2.0.10  \n",
       "Busan.Subway.f7key.Cauly                             78       1.5.4  "
      ]
     },
     "execution_count": 133,
     "metadata": {},
     "output_type": "execute_result"
    }
   ],
   "source": [
    "# Group apps by package name and obtain the earlist version\n",
    "# Sort by release date, group by package name, get the subset.\n",
    "df14_first = df14.sort_values(by='listing.rDate', ascending=True).groupby('packageName').first()\n",
    "df14_first.head()"
   ]
  },
  {
   "cell_type": "code",
   "execution_count": 134,
   "metadata": {
    "collapsed": false
   },
   "outputs": [
    {
     "data": {
      "text/plain": [
       "3.0277777000000001"
      ]
     },
     "execution_count": 134,
     "metadata": {},
     "output_type": "execute_result"
    }
   ],
   "source": [
    "df14_first.loc['PocketGest.PocketGest']['listing.rating']\n",
    "#df_first.loc[df_first['packageName'] =='PocketGest.PocketGest']"
   ]
  },
  {
   "cell_type": "code",
   "execution_count": 135,
   "metadata": {
    "collapsed": false
   },
   "outputs": [
    {
     "data": {
      "text/plain": [
       "44730"
      ]
     },
     "execution_count": 135,
     "metadata": {},
     "output_type": "execute_result"
    }
   ],
   "source": [
    "len(df14_first)"
   ]
  },
  {
   "cell_type": "code",
   "execution_count": 136,
   "metadata": {
    "collapsed": false
   },
   "outputs": [
    {
     "data": {
      "text/html": [
       "<h1>App versions released in 2015: </h1>"
      ],
      "text/plain": [
       "<IPython.core.display.HTML object>"
      ]
     },
     "metadata": {},
     "output_type": "display_data"
    },
    {
     "data": {
      "text/plain": [
       "122942"
      ]
     },
     "execution_count": 136,
     "metadata": {},
     "output_type": "execute_result"
    }
   ],
   "source": [
    "df15 = normalizeDataFrame('../data/apps-by-year/released_in_2015.json')\n",
    "display(HTML('<h1>App versions released in 2015: </h1>'))\n",
    "len(df15)"
   ]
  },
  {
   "cell_type": "code",
   "execution_count": 137,
   "metadata": {
    "collapsed": false
   },
   "outputs": [
    {
     "data": {
      "text/html": [
       "<div>\n",
       "<table border=\"1\" class=\"dataframe\">\n",
       "  <thead>\n",
       "    <tr style=\"text-align: right;\">\n",
       "      <th></th>\n",
       "      <th>id</th>\n",
       "      <th>listing.rDate</th>\n",
       "      <th>listing.rating</th>\n",
       "      <th>packageName</th>\n",
       "      <th>versionCode</th>\n",
       "      <th>versionName</th>\n",
       "    </tr>\n",
       "  </thead>\n",
       "  <tbody>\n",
       "    <tr>\n",
       "      <th>0</th>\n",
       "      <td>Copeland.XRef-7</td>\n",
       "      <td>2015-10-07</td>\n",
       "      <td>3.2</td>\n",
       "      <td>Copeland.XRef</td>\n",
       "      <td>7</td>\n",
       "      <td>3.1.2</td>\n",
       "    </tr>\n",
       "    <tr>\n",
       "      <th>1</th>\n",
       "      <td>OCTech.Mobile.Applications.OBDLink-25</td>\n",
       "      <td>2015-09-30</td>\n",
       "      <td>3.8</td>\n",
       "      <td>OCTech.Mobile.Applications.OBDLink</td>\n",
       "      <td>25</td>\n",
       "      <td>3.1.2</td>\n",
       "    </tr>\n",
       "    <tr>\n",
       "      <th>2</th>\n",
       "      <td>BacteriologiaFree.Doctor-5</td>\n",
       "      <td>2015-08-24</td>\n",
       "      <td>4.1</td>\n",
       "      <td>BacteriologiaFree.Doctor</td>\n",
       "      <td>5</td>\n",
       "      <td>5.0</td>\n",
       "    </tr>\n",
       "    <tr>\n",
       "      <th>3</th>\n",
       "      <td>a.kakao.iconnect.footprint_talk_cat-1</td>\n",
       "      <td>2015-03-28</td>\n",
       "      <td>4.0</td>\n",
       "      <td>a.kakao.iconnect.footprint_talk_cat</td>\n",
       "      <td>1</td>\n",
       "      <td>4.0</td>\n",
       "    </tr>\n",
       "    <tr>\n",
       "      <th>4</th>\n",
       "      <td>FriendsInTheCity.Softgames-17</td>\n",
       "      <td>2015-11-13</td>\n",
       "      <td>2.4</td>\n",
       "      <td>FriendsInTheCity.Softgames</td>\n",
       "      <td>17</td>\n",
       "      <td>3.2</td>\n",
       "    </tr>\n",
       "  </tbody>\n",
       "</table>\n",
       "</div>"
      ],
      "text/plain": [
       "                                      id listing.rDate  listing.rating  \\\n",
       "0                        Copeland.XRef-7    2015-10-07             3.2   \n",
       "1  OCTech.Mobile.Applications.OBDLink-25    2015-09-30             3.8   \n",
       "2             BacteriologiaFree.Doctor-5    2015-08-24             4.1   \n",
       "3  a.kakao.iconnect.footprint_talk_cat-1    2015-03-28             4.0   \n",
       "4          FriendsInTheCity.Softgames-17    2015-11-13             2.4   \n",
       "\n",
       "                           packageName  versionCode versionName  \n",
       "0                        Copeland.XRef            7       3.1.2  \n",
       "1   OCTech.Mobile.Applications.OBDLink           25       3.1.2  \n",
       "2             BacteriologiaFree.Doctor            5         5.0  \n",
       "3  a.kakao.iconnect.footprint_talk_cat            1         4.0  \n",
       "4           FriendsInTheCity.Softgames           17         3.2  "
      ]
     },
     "execution_count": 137,
     "metadata": {},
     "output_type": "execute_result"
    }
   ],
   "source": [
    "df15.head()"
   ]
  },
  {
   "cell_type": "code",
   "execution_count": 138,
   "metadata": {
    "collapsed": false
   },
   "outputs": [
    {
     "data": {
      "text/html": [
       "<div>\n",
       "<table border=\"1\" class=\"dataframe\">\n",
       "  <thead>\n",
       "    <tr style=\"text-align: right;\">\n",
       "      <th></th>\n",
       "      <th>id</th>\n",
       "      <th>listing.rDate</th>\n",
       "      <th>listing.rating</th>\n",
       "      <th>versionCode</th>\n",
       "      <th>versionName</th>\n",
       "    </tr>\n",
       "    <tr>\n",
       "      <th>packageName</th>\n",
       "      <th></th>\n",
       "      <th></th>\n",
       "      <th></th>\n",
       "      <th></th>\n",
       "      <th></th>\n",
       "    </tr>\n",
       "  </thead>\n",
       "  <tbody>\n",
       "    <tr>\n",
       "      <th>AdamsDrugs.PocketRx</th>\n",
       "      <td>AdamsDrugs.PocketRx-400</td>\n",
       "      <td>2015-10-08</td>\n",
       "      <td>4.0</td>\n",
       "      <td>400</td>\n",
       "      <td>4.00</td>\n",
       "    </tr>\n",
       "    <tr>\n",
       "      <th>Android.WirelessPassword</th>\n",
       "      <td>Android.WirelessPassword-20</td>\n",
       "      <td>2015-08-16</td>\n",
       "      <td>3.5</td>\n",
       "      <td>20</td>\n",
       "      <td>2.3</td>\n",
       "    </tr>\n",
       "    <tr>\n",
       "      <th>ArgosHALLYM.Mobile</th>\n",
       "      <td>ArgosHALLYM.Mobile-13</td>\n",
       "      <td>2015-07-17</td>\n",
       "      <td>4.9</td>\n",
       "      <td>13</td>\n",
       "      <td>2.3</td>\n",
       "    </tr>\n",
       "    <tr>\n",
       "      <th>ArgosMTU.Mobile</th>\n",
       "      <td>ArgosMTU.Mobile-20</td>\n",
       "      <td>2015-08-26</td>\n",
       "      <td>4.6</td>\n",
       "      <td>20</td>\n",
       "      <td>3.0</td>\n",
       "    </tr>\n",
       "    <tr>\n",
       "      <th>AutomateIt.mainPackage</th>\n",
       "      <td>AutomateIt.mainPackage-157</td>\n",
       "      <td>2015-10-29</td>\n",
       "      <td>4.2</td>\n",
       "      <td>157</td>\n",
       "      <td>3.0.157</td>\n",
       "    </tr>\n",
       "  </tbody>\n",
       "</table>\n",
       "</div>"
      ],
      "text/plain": [
       "                                                   id listing.rDate  \\\n",
       "packageName                                                           \n",
       "AdamsDrugs.PocketRx           AdamsDrugs.PocketRx-400    2015-10-08   \n",
       "Android.WirelessPassword  Android.WirelessPassword-20    2015-08-16   \n",
       "ArgosHALLYM.Mobile              ArgosHALLYM.Mobile-13    2015-07-17   \n",
       "ArgosMTU.Mobile                    ArgosMTU.Mobile-20    2015-08-26   \n",
       "AutomateIt.mainPackage     AutomateIt.mainPackage-157    2015-10-29   \n",
       "\n",
       "                          listing.rating  versionCode versionName  \n",
       "packageName                                                        \n",
       "AdamsDrugs.PocketRx                  4.0          400        4.00  \n",
       "Android.WirelessPassword             3.5           20         2.3  \n",
       "ArgosHALLYM.Mobile                   4.9           13         2.3  \n",
       "ArgosMTU.Mobile                      4.6           20         3.0  \n",
       "AutomateIt.mainPackage               4.2          157     3.0.157  "
      ]
     },
     "execution_count": 138,
     "metadata": {},
     "output_type": "execute_result"
    }
   ],
   "source": [
    "# Group apps by package name and obtain the earlist version\n",
    "# Sort by release date, group by package name, get the subset.\n",
    "df15_first = df15.sort_values(by='listing.rDate', ascending=True).groupby('packageName').first()\n",
    "df15_first.head()"
   ]
  },
  {
   "cell_type": "code",
   "execution_count": 139,
   "metadata": {
    "collapsed": false
   },
   "outputs": [
    {
     "data": {
      "text/plain": [
       "93873"
      ]
     },
     "execution_count": 139,
     "metadata": {},
     "output_type": "execute_result"
    }
   ],
   "source": [
    "len(df15_first)"
   ]
  },
  {
   "cell_type": "code",
   "execution_count": null,
   "metadata": {
    "collapsed": true
   },
   "outputs": [],
   "source": []
  },
  {
   "cell_type": "code",
   "execution_count": 140,
   "metadata": {
    "collapsed": false
   },
   "outputs": [
    {
     "data": {
      "text/html": [
       "<div>\n",
       "<table border=\"1\" class=\"dataframe\">\n",
       "  <thead>\n",
       "    <tr style=\"text-align: right;\">\n",
       "      <th></th>\n",
       "      <th>id_14</th>\n",
       "      <th>listing.rDate_14</th>\n",
       "      <th>listing.rating_14</th>\n",
       "      <th>versionCode_14</th>\n",
       "      <th>versionName_14</th>\n",
       "      <th>id_15</th>\n",
       "      <th>listing.rDate_15</th>\n",
       "      <th>listing.rating_15</th>\n",
       "      <th>versionCode_15</th>\n",
       "      <th>versionName_15</th>\n",
       "    </tr>\n",
       "    <tr>\n",
       "      <th>packageName</th>\n",
       "      <th></th>\n",
       "      <th></th>\n",
       "      <th></th>\n",
       "      <th></th>\n",
       "      <th></th>\n",
       "      <th></th>\n",
       "      <th></th>\n",
       "      <th></th>\n",
       "      <th></th>\n",
       "      <th></th>\n",
       "    </tr>\n",
       "  </thead>\n",
       "  <tbody>\n",
       "    <tr>\n",
       "      <th>AutomateIt.mainPackage</th>\n",
       "      <td>AutomateIt.mainPackage-84</td>\n",
       "      <td>2014-01-14</td>\n",
       "      <td>4.281773</td>\n",
       "      <td>84</td>\n",
       "      <td>3.0.84</td>\n",
       "      <td>AutomateIt.mainPackage-157</td>\n",
       "      <td>2015-10-29</td>\n",
       "      <td>4.2</td>\n",
       "      <td>157</td>\n",
       "      <td>3.0.157</td>\n",
       "    </tr>\n",
       "    <tr>\n",
       "      <th>CN.MyPrivateMessages</th>\n",
       "      <td>CN.MyPrivateMessages-122</td>\n",
       "      <td>2014-05-27</td>\n",
       "      <td>4.438504</td>\n",
       "      <td>122</td>\n",
       "      <td>2.7.2</td>\n",
       "      <td>CN.MyPrivateMessages-143</td>\n",
       "      <td>2015-10-04</td>\n",
       "      <td>4.3</td>\n",
       "      <td>143</td>\n",
       "      <td>2.7.6.14</td>\n",
       "    </tr>\n",
       "    <tr>\n",
       "      <th>Com.sktelecom.minit</th>\n",
       "      <td>Com.sktelecom.minit-35</td>\n",
       "      <td>2014-06-22</td>\n",
       "      <td>3.849466</td>\n",
       "      <td>35</td>\n",
       "      <td>@string/app_version</td>\n",
       "      <td>Com.sktelecom.minit-43</td>\n",
       "      <td>2015-11-12</td>\n",
       "      <td>3.7</td>\n",
       "      <td>43</td>\n",
       "      <td>@string/app_version</td>\n",
       "    </tr>\n",
       "    <tr>\n",
       "      <th>ExtremeDevelopers.NeedforDrift</th>\n",
       "      <td>ExtremeDevelopers.NeedforDrift-151</td>\n",
       "      <td>2014-09-16</td>\n",
       "      <td>4.204959</td>\n",
       "      <td>151</td>\n",
       "      <td>1.51</td>\n",
       "      <td>ExtremeDevelopers.NeedforDrift-156</td>\n",
       "      <td>2015-12-08</td>\n",
       "      <td>4.2</td>\n",
       "      <td>156</td>\n",
       "      <td>1.56</td>\n",
       "    </tr>\n",
       "    <tr>\n",
       "      <th>InternetRadio.all</th>\n",
       "      <td>InternetRadio.all-109</td>\n",
       "      <td>2014-06-09</td>\n",
       "      <td>4.231142</td>\n",
       "      <td>109</td>\n",
       "      <td>1.5.2.6781</td>\n",
       "      <td>InternetRadio.all-3855</td>\n",
       "      <td>2015-09-25</td>\n",
       "      <td>4.2</td>\n",
       "      <td>3855</td>\n",
       "      <td>3.16.1.3855</td>\n",
       "    </tr>\n",
       "  </tbody>\n",
       "</table>\n",
       "</div>"
      ],
      "text/plain": [
       "                                                             id_14  \\\n",
       "packageName                                                          \n",
       "AutomateIt.mainPackage                   AutomateIt.mainPackage-84   \n",
       "CN.MyPrivateMessages                      CN.MyPrivateMessages-122   \n",
       "Com.sktelecom.minit                         Com.sktelecom.minit-35   \n",
       "ExtremeDevelopers.NeedforDrift  ExtremeDevelopers.NeedforDrift-151   \n",
       "InternetRadio.all                            InternetRadio.all-109   \n",
       "\n",
       "                               listing.rDate_14  listing.rating_14  \\\n",
       "packageName                                                          \n",
       "AutomateIt.mainPackage               2014-01-14           4.281773   \n",
       "CN.MyPrivateMessages                 2014-05-27           4.438504   \n",
       "Com.sktelecom.minit                  2014-06-22           3.849466   \n",
       "ExtremeDevelopers.NeedforDrift       2014-09-16           4.204959   \n",
       "InternetRadio.all                    2014-06-09           4.231142   \n",
       "\n",
       "                                versionCode_14       versionName_14  \\\n",
       "packageName                                                           \n",
       "AutomateIt.mainPackage                      84               3.0.84   \n",
       "CN.MyPrivateMessages                       122                2.7.2   \n",
       "Com.sktelecom.minit                         35  @string/app_version   \n",
       "ExtremeDevelopers.NeedforDrift             151                 1.51   \n",
       "InternetRadio.all                          109           1.5.2.6781   \n",
       "\n",
       "                                                             id_15  \\\n",
       "packageName                                                          \n",
       "AutomateIt.mainPackage                  AutomateIt.mainPackage-157   \n",
       "CN.MyPrivateMessages                      CN.MyPrivateMessages-143   \n",
       "Com.sktelecom.minit                         Com.sktelecom.minit-43   \n",
       "ExtremeDevelopers.NeedforDrift  ExtremeDevelopers.NeedforDrift-156   \n",
       "InternetRadio.all                           InternetRadio.all-3855   \n",
       "\n",
       "                               listing.rDate_15  listing.rating_15  \\\n",
       "packageName                                                          \n",
       "AutomateIt.mainPackage               2015-10-29                4.2   \n",
       "CN.MyPrivateMessages                 2015-10-04                4.3   \n",
       "Com.sktelecom.minit                  2015-11-12                3.7   \n",
       "ExtremeDevelopers.NeedforDrift       2015-12-08                4.2   \n",
       "InternetRadio.all                    2015-09-25                4.2   \n",
       "\n",
       "                                versionCode_15       versionName_15  \n",
       "packageName                                                          \n",
       "AutomateIt.mainPackage                     157              3.0.157  \n",
       "CN.MyPrivateMessages                       143             2.7.6.14  \n",
       "Com.sktelecom.minit                         43  @string/app_version  \n",
       "ExtremeDevelopers.NeedforDrift             156                 1.56  \n",
       "InternetRadio.all                         3855          3.16.1.3855  "
      ]
     },
     "execution_count": 140,
     "metadata": {},
     "output_type": "execute_result"
    }
   ],
   "source": [
    "# merge both 2014 and 2015 data frames\n",
    "df_merged_14_15 = df14_first.join(df15_first, lsuffix='_14',rsuffix='_15', how='inner')\n",
    "df_merged_14_15.head()"
   ]
  },
  {
   "cell_type": "code",
   "execution_count": 141,
   "metadata": {
    "collapsed": false
   },
   "outputs": [
    {
     "data": {
      "text/plain": [
       "6050"
      ]
     },
     "execution_count": 141,
     "metadata": {},
     "output_type": "execute_result"
    }
   ],
   "source": [
    "len(df_merged_14_15)"
   ]
  },
  {
   "cell_type": "code",
   "execution_count": 142,
   "metadata": {
    "collapsed": false
   },
   "outputs": [
    {
     "data": {
      "text/html": [
       "<div>\n",
       "<table border=\"1\" class=\"dataframe\">\n",
       "  <thead>\n",
       "    <tr style=\"text-align: right;\">\n",
       "      <th></th>\n",
       "      <th>id_14</th>\n",
       "      <th>listing.rDate_14</th>\n",
       "      <th>listing.rating_14</th>\n",
       "      <th>versionCode_14</th>\n",
       "      <th>versionName_14</th>\n",
       "      <th>id_15</th>\n",
       "      <th>listing.rDate_15</th>\n",
       "      <th>listing.rating_15</th>\n",
       "      <th>versionCode_15</th>\n",
       "      <th>versionName_15</th>\n",
       "      <th>ratingDiff</th>\n",
       "    </tr>\n",
       "    <tr>\n",
       "      <th>packageName</th>\n",
       "      <th></th>\n",
       "      <th></th>\n",
       "      <th></th>\n",
       "      <th></th>\n",
       "      <th></th>\n",
       "      <th></th>\n",
       "      <th></th>\n",
       "      <th></th>\n",
       "      <th></th>\n",
       "      <th></th>\n",
       "      <th></th>\n",
       "    </tr>\n",
       "  </thead>\n",
       "  <tbody>\n",
       "    <tr>\n",
       "      <th>AutomateIt.mainPackage</th>\n",
       "      <td>AutomateIt.mainPackage-84</td>\n",
       "      <td>2014-01-14</td>\n",
       "      <td>4.281773</td>\n",
       "      <td>84</td>\n",
       "      <td>3.0.84</td>\n",
       "      <td>AutomateIt.mainPackage-157</td>\n",
       "      <td>2015-10-29</td>\n",
       "      <td>4.2</td>\n",
       "      <td>157</td>\n",
       "      <td>3.0.157</td>\n",
       "      <td>-0.081773</td>\n",
       "    </tr>\n",
       "    <tr>\n",
       "      <th>CN.MyPrivateMessages</th>\n",
       "      <td>CN.MyPrivateMessages-122</td>\n",
       "      <td>2014-05-27</td>\n",
       "      <td>4.438504</td>\n",
       "      <td>122</td>\n",
       "      <td>2.7.2</td>\n",
       "      <td>CN.MyPrivateMessages-143</td>\n",
       "      <td>2015-10-04</td>\n",
       "      <td>4.3</td>\n",
       "      <td>143</td>\n",
       "      <td>2.7.6.14</td>\n",
       "      <td>-0.138504</td>\n",
       "    </tr>\n",
       "    <tr>\n",
       "      <th>Com.sktelecom.minit</th>\n",
       "      <td>Com.sktelecom.minit-35</td>\n",
       "      <td>2014-06-22</td>\n",
       "      <td>3.849466</td>\n",
       "      <td>35</td>\n",
       "      <td>@string/app_version</td>\n",
       "      <td>Com.sktelecom.minit-43</td>\n",
       "      <td>2015-11-12</td>\n",
       "      <td>3.7</td>\n",
       "      <td>43</td>\n",
       "      <td>@string/app_version</td>\n",
       "      <td>-0.149466</td>\n",
       "    </tr>\n",
       "    <tr>\n",
       "      <th>ExtremeDevelopers.NeedforDrift</th>\n",
       "      <td>ExtremeDevelopers.NeedforDrift-151</td>\n",
       "      <td>2014-09-16</td>\n",
       "      <td>4.204959</td>\n",
       "      <td>151</td>\n",
       "      <td>1.51</td>\n",
       "      <td>ExtremeDevelopers.NeedforDrift-156</td>\n",
       "      <td>2015-12-08</td>\n",
       "      <td>4.2</td>\n",
       "      <td>156</td>\n",
       "      <td>1.56</td>\n",
       "      <td>-0.004959</td>\n",
       "    </tr>\n",
       "    <tr>\n",
       "      <th>InternetRadio.all</th>\n",
       "      <td>InternetRadio.all-109</td>\n",
       "      <td>2014-06-09</td>\n",
       "      <td>4.231142</td>\n",
       "      <td>109</td>\n",
       "      <td>1.5.2.6781</td>\n",
       "      <td>InternetRadio.all-3855</td>\n",
       "      <td>2015-09-25</td>\n",
       "      <td>4.2</td>\n",
       "      <td>3855</td>\n",
       "      <td>3.16.1.3855</td>\n",
       "      <td>-0.031142</td>\n",
       "    </tr>\n",
       "  </tbody>\n",
       "</table>\n",
       "</div>"
      ],
      "text/plain": [
       "                                                             id_14  \\\n",
       "packageName                                                          \n",
       "AutomateIt.mainPackage                   AutomateIt.mainPackage-84   \n",
       "CN.MyPrivateMessages                      CN.MyPrivateMessages-122   \n",
       "Com.sktelecom.minit                         Com.sktelecom.minit-35   \n",
       "ExtremeDevelopers.NeedforDrift  ExtremeDevelopers.NeedforDrift-151   \n",
       "InternetRadio.all                            InternetRadio.all-109   \n",
       "\n",
       "                               listing.rDate_14  listing.rating_14  \\\n",
       "packageName                                                          \n",
       "AutomateIt.mainPackage               2014-01-14           4.281773   \n",
       "CN.MyPrivateMessages                 2014-05-27           4.438504   \n",
       "Com.sktelecom.minit                  2014-06-22           3.849466   \n",
       "ExtremeDevelopers.NeedforDrift       2014-09-16           4.204959   \n",
       "InternetRadio.all                    2014-06-09           4.231142   \n",
       "\n",
       "                                versionCode_14       versionName_14  \\\n",
       "packageName                                                           \n",
       "AutomateIt.mainPackage                      84               3.0.84   \n",
       "CN.MyPrivateMessages                       122                2.7.2   \n",
       "Com.sktelecom.minit                         35  @string/app_version   \n",
       "ExtremeDevelopers.NeedforDrift             151                 1.51   \n",
       "InternetRadio.all                          109           1.5.2.6781   \n",
       "\n",
       "                                                             id_15  \\\n",
       "packageName                                                          \n",
       "AutomateIt.mainPackage                  AutomateIt.mainPackage-157   \n",
       "CN.MyPrivateMessages                      CN.MyPrivateMessages-143   \n",
       "Com.sktelecom.minit                         Com.sktelecom.minit-43   \n",
       "ExtremeDevelopers.NeedforDrift  ExtremeDevelopers.NeedforDrift-156   \n",
       "InternetRadio.all                           InternetRadio.all-3855   \n",
       "\n",
       "                               listing.rDate_15  listing.rating_15  \\\n",
       "packageName                                                          \n",
       "AutomateIt.mainPackage               2015-10-29                4.2   \n",
       "CN.MyPrivateMessages                 2015-10-04                4.3   \n",
       "Com.sktelecom.minit                  2015-11-12                3.7   \n",
       "ExtremeDevelopers.NeedforDrift       2015-12-08                4.2   \n",
       "InternetRadio.all                    2015-09-25                4.2   \n",
       "\n",
       "                                versionCode_15       versionName_15  \\\n",
       "packageName                                                           \n",
       "AutomateIt.mainPackage                     157              3.0.157   \n",
       "CN.MyPrivateMessages                       143             2.7.6.14   \n",
       "Com.sktelecom.minit                         43  @string/app_version   \n",
       "ExtremeDevelopers.NeedforDrift             156                 1.56   \n",
       "InternetRadio.all                         3855          3.16.1.3855   \n",
       "\n",
       "                                ratingDiff  \n",
       "packageName                                 \n",
       "AutomateIt.mainPackage           -0.081773  \n",
       "CN.MyPrivateMessages             -0.138504  \n",
       "Com.sktelecom.minit              -0.149466  \n",
       "ExtremeDevelopers.NeedforDrift   -0.004959  \n",
       "InternetRadio.all                -0.031142  "
      ]
     },
     "execution_count": 142,
     "metadata": {},
     "output_type": "execute_result"
    }
   ],
   "source": [
    "# compute the difference of rating between 2014 and 2015\n",
    "df_merged_14_15['ratingDiff'] = df_merged_14_15['listing.rating_15'] - df_merged_14_15['listing.rating_14']\n",
    "df_merged_14_15.head()"
   ]
  },
  {
   "cell_type": "code",
   "execution_count": 209,
   "metadata": {
    "collapsed": false
   },
   "outputs": [
    {
     "data": {
      "text/plain": [
       "-0.053695572975206635"
      ]
     },
     "execution_count": 209,
     "metadata": {},
     "output_type": "execute_result"
    }
   ],
   "source": [
    "df_merged_14_15['ratingDiff'].mean()"
   ]
  },
  {
   "cell_type": "code",
   "execution_count": 143,
   "metadata": {
    "collapsed": false
   },
   "outputs": [],
   "source": [
    "rating_down = df_merged_14_15[df_merged_14_15['ratingDiff'] < 0]\n",
    "rating_up = df_merged_14_15[df_merged_14_15['ratingDiff'] > 0]\n",
    "rating_remain = df_merged_14_15[df_merged_14_15['ratingDiff'] == 0]"
   ]
  },
  {
   "cell_type": "code",
   "execution_count": 174,
   "metadata": {
    "collapsed": false
   },
   "outputs": [
    {
     "name": "stdout",
     "output_type": "stream",
     "text": [
      "6050\n",
      "3988\n",
      "1802\n",
      "260\n"
     ]
    }
   ],
   "source": [
    "total = len(df_merged_14_15)\n",
    "print(total)\n",
    "print(len(rating_down))\n",
    "print(len(rating_up))\n",
    "print(len(rating_remain))"
   ]
  },
  {
   "cell_type": "code",
   "execution_count": 177,
   "metadata": {
    "collapsed": false
   },
   "outputs": [
    {
     "data": {
      "text/markdown": [
       "## Rating differences between 2014 and 2015 for 6,050 apps"
      ],
      "text/plain": [
       "<IPython.core.display.Markdown object>"
      ]
     },
     "metadata": {},
     "output_type": "display_data"
    }
   ],
   "source": [
    "total = len(df_merged_14_15)\n",
    "display(Markdown(\"## Rating differences between 2014 and 2015 for \" + \"{:,}\".format(total) + \" apps\"))"
   ]
  },
  {
   "cell_type": "code",
   "execution_count": 178,
   "metadata": {
    "collapsed": false,
    "scrolled": true
   },
   "outputs": [
    {
     "data": {
      "text/html": [
       "<div id=\"08bd46c6-24c7-475a-b872-19c1693d6e26\" style=\"height: 525; width: 100%;\" class=\"plotly-graph-div\"></div><script type=\"text/javascript\">window.PLOTLYENV=window.PLOTLYENV || {};window.PLOTLYENV.BASE_URL=\"https://plot.ly\";Plotly.newPlot(\"08bd46c6-24c7-475a-b872-19c1693d6e26\", [{\"type\": \"pie\", \"labels\": [\"Rating up\", \"Rating down\", \"No changes\"], \"marker\": {\"colors\": [\"rgb(44, 160, 44)\", \"rgb(214, 39, 40)\", \"rgb(145, 145, 143)\"]}, \"values\": [29.78512396694215, 65.91735537190083, 4.297520661157025]}], {\"title\": \"App Rating Changes between 2014 and 2015\"}, {\"showLink\": true, \"linkText\": \"Export to plot.ly\"})</script>"
      ],
      "text/plain": [
       "<IPython.core.display.HTML object>"
      ]
     },
     "metadata": {},
     "output_type": "display_data"
    }
   ],
   "source": [
    "fig_14_15 = {\n",
    "    'data': [{'labels': ['Rating up', 'Rating down', 'No changes'],\n",
    "              'values': [len(rating_up)/total*100, len(rating_down)/total*100, len(rating_remain)/total*100],\n",
    "              'type': 'pie',\n",
    "              'marker': {'colors': ['rgb(44, 160, 44)', 'rgb(214, 39, 40)', 'rgb(145, 145, 143)']}\n",
    "             }],\n",
    "    'layout': {'title': 'App Rating Changes between 2014 and 2015'}\n",
    "     }\n",
    "\n",
    "iplot(fig_14_15)"
   ]
  },
  {
   "cell_type": "code",
   "execution_count": 200,
   "metadata": {
    "collapsed": false
   },
   "outputs": [
    {
     "data": {
      "text/html": [
       "<h1>App versions released in 2016: </h1>"
      ],
      "text/plain": [
       "<IPython.core.display.HTML object>"
      ]
     },
     "metadata": {},
     "output_type": "display_data"
    },
    {
     "data": {
      "text/plain": [
       "40861"
      ]
     },
     "execution_count": 200,
     "metadata": {},
     "output_type": "execute_result"
    }
   ],
   "source": [
    "df16 = normalizeDataFrame('../data/apps-by-year/released_in_2016.json')\n",
    "display(HTML('<h1>App versions released in 2016: </h1>'))\n",
    "len(df16)"
   ]
  },
  {
   "cell_type": "code",
   "execution_count": 201,
   "metadata": {
    "collapsed": false
   },
   "outputs": [
    {
     "data": {
      "text/html": [
       "<div>\n",
       "<table border=\"1\" class=\"dataframe\">\n",
       "  <thead>\n",
       "    <tr style=\"text-align: right;\">\n",
       "      <th></th>\n",
       "      <th>id</th>\n",
       "      <th>listing.rDate</th>\n",
       "      <th>listing.rating</th>\n",
       "      <th>versionCode</th>\n",
       "      <th>versionName</th>\n",
       "    </tr>\n",
       "    <tr>\n",
       "      <th>packageName</th>\n",
       "      <th></th>\n",
       "      <th></th>\n",
       "      <th></th>\n",
       "      <th></th>\n",
       "      <th></th>\n",
       "    </tr>\n",
       "  </thead>\n",
       "  <tbody>\n",
       "    <tr>\n",
       "      <th>AutomateIt.mainPackage</th>\n",
       "      <td>AutomateIt.mainPackage-173</td>\n",
       "      <td>2016-02-21</td>\n",
       "      <td>4.2</td>\n",
       "      <td>173</td>\n",
       "      <td>3.0.173</td>\n",
       "    </tr>\n",
       "    <tr>\n",
       "      <th>BlueFRom.Consult</th>\n",
       "      <td>BlueFRom.Consult-6</td>\n",
       "      <td>2016-01-29</td>\n",
       "      <td>3.4</td>\n",
       "      <td>6</td>\n",
       "      <td>1.0.6</td>\n",
       "    </tr>\n",
       "    <tr>\n",
       "      <th>Face.Sorter</th>\n",
       "      <td>Face.Sorter-94</td>\n",
       "      <td>2016-01-18</td>\n",
       "      <td>3.3</td>\n",
       "      <td>94</td>\n",
       "      <td>9.4</td>\n",
       "    </tr>\n",
       "    <tr>\n",
       "      <th>Gecko.Droid.PhysicsHelper</th>\n",
       "      <td>Gecko.Droid.PhysicsHelper-89</td>\n",
       "      <td>2016-01-04</td>\n",
       "      <td>4.1</td>\n",
       "      <td>89</td>\n",
       "      <td>3.0.89-GP</td>\n",
       "    </tr>\n",
       "    <tr>\n",
       "      <th>GeoWikiMobile.GeoWikiMobile</th>\n",
       "      <td>GeoWikiMobile.GeoWikiMobile-21</td>\n",
       "      <td>2016-03-14</td>\n",
       "      <td>3.7</td>\n",
       "      <td>21</td>\n",
       "      <td>3.2</td>\n",
       "    </tr>\n",
       "  </tbody>\n",
       "</table>\n",
       "</div>"
      ],
      "text/plain": [
       "                                                         id listing.rDate  \\\n",
       "packageName                                                                 \n",
       "AutomateIt.mainPackage           AutomateIt.mainPackage-173    2016-02-21   \n",
       "BlueFRom.Consult                         BlueFRom.Consult-6    2016-01-29   \n",
       "Face.Sorter                                  Face.Sorter-94    2016-01-18   \n",
       "Gecko.Droid.PhysicsHelper      Gecko.Droid.PhysicsHelper-89    2016-01-04   \n",
       "GeoWikiMobile.GeoWikiMobile  GeoWikiMobile.GeoWikiMobile-21    2016-03-14   \n",
       "\n",
       "                             listing.rating  versionCode versionName  \n",
       "packageName                                                           \n",
       "AutomateIt.mainPackage                  4.2          173     3.0.173  \n",
       "BlueFRom.Consult                        3.4            6       1.0.6  \n",
       "Face.Sorter                             3.3           94         9.4  \n",
       "Gecko.Droid.PhysicsHelper               4.1           89   3.0.89-GP  \n",
       "GeoWikiMobile.GeoWikiMobile             3.7           21         3.2  "
      ]
     },
     "execution_count": 201,
     "metadata": {},
     "output_type": "execute_result"
    }
   ],
   "source": [
    "# Group apps by package name and obtain the earlist version\n",
    "# Sort by release date, group by package name, get the subset.\n",
    "df16_first = df16.sort_values(by='listing.rDate', ascending=True).groupby('packageName').first()\n",
    "df16_first.head()"
   ]
  },
  {
   "cell_type": "code",
   "execution_count": 202,
   "metadata": {
    "collapsed": false
   },
   "outputs": [
    {
     "data": {
      "text/html": [
       "<div>\n",
       "<table border=\"1\" class=\"dataframe\">\n",
       "  <thead>\n",
       "    <tr style=\"text-align: right;\">\n",
       "      <th></th>\n",
       "      <th>id_15</th>\n",
       "      <th>listing.rDate_15</th>\n",
       "      <th>listing.rating_15</th>\n",
       "      <th>versionCode_15</th>\n",
       "      <th>versionName_15</th>\n",
       "      <th>id_16</th>\n",
       "      <th>listing.rDate_16</th>\n",
       "      <th>listing.rating_16</th>\n",
       "      <th>versionCode_16</th>\n",
       "      <th>versionName_16</th>\n",
       "    </tr>\n",
       "    <tr>\n",
       "      <th>packageName</th>\n",
       "      <th></th>\n",
       "      <th></th>\n",
       "      <th></th>\n",
       "      <th></th>\n",
       "      <th></th>\n",
       "      <th></th>\n",
       "      <th></th>\n",
       "      <th></th>\n",
       "      <th></th>\n",
       "      <th></th>\n",
       "    </tr>\n",
       "  </thead>\n",
       "  <tbody>\n",
       "    <tr>\n",
       "      <th>AutomateIt.mainPackage</th>\n",
       "      <td>AutomateIt.mainPackage-157</td>\n",
       "      <td>2015-10-29</td>\n",
       "      <td>4.2</td>\n",
       "      <td>157</td>\n",
       "      <td>3.0.157</td>\n",
       "      <td>AutomateIt.mainPackage-173</td>\n",
       "      <td>2016-02-21</td>\n",
       "      <td>4.2</td>\n",
       "      <td>173</td>\n",
       "      <td>3.0.173</td>\n",
       "    </tr>\n",
       "    <tr>\n",
       "      <th>Face.Sorter</th>\n",
       "      <td>Face.Sorter-70</td>\n",
       "      <td>2015-11-09</td>\n",
       "      <td>3.3</td>\n",
       "      <td>70</td>\n",
       "      <td>7.0</td>\n",
       "      <td>Face.Sorter-94</td>\n",
       "      <td>2016-01-18</td>\n",
       "      <td>3.3</td>\n",
       "      <td>94</td>\n",
       "      <td>9.4</td>\n",
       "    </tr>\n",
       "    <tr>\n",
       "      <th>GeoWikiMobile.GeoWikiMobile</th>\n",
       "      <td>GeoWikiMobile.GeoWikiMobile-16</td>\n",
       "      <td>2015-09-23</td>\n",
       "      <td>3.4</td>\n",
       "      <td>16</td>\n",
       "      <td>3.0.1</td>\n",
       "      <td>GeoWikiMobile.GeoWikiMobile-21</td>\n",
       "      <td>2016-03-14</td>\n",
       "      <td>3.7</td>\n",
       "      <td>21</td>\n",
       "      <td>3.2</td>\n",
       "    </tr>\n",
       "    <tr>\n",
       "      <th>InternetRadio.all</th>\n",
       "      <td>InternetRadio.all-3855</td>\n",
       "      <td>2015-09-25</td>\n",
       "      <td>4.2</td>\n",
       "      <td>3855</td>\n",
       "      <td>3.16.1.3855</td>\n",
       "      <td>InternetRadio.all-6298</td>\n",
       "      <td>2016-03-18</td>\n",
       "      <td>4.2</td>\n",
       "      <td>6298</td>\n",
       "      <td>3.35.0.6298</td>\n",
       "    </tr>\n",
       "    <tr>\n",
       "      <th>MyING.be</th>\n",
       "      <td>MyING.be-21</td>\n",
       "      <td>2015-09-08</td>\n",
       "      <td>4.1</td>\n",
       "      <td>21</td>\n",
       "      <td>7.3.0</td>\n",
       "      <td>MyING.be-22</td>\n",
       "      <td>2016-01-18</td>\n",
       "      <td>4.1</td>\n",
       "      <td>22</td>\n",
       "      <td>7.4.0</td>\n",
       "    </tr>\n",
       "  </tbody>\n",
       "</table>\n",
       "</div>"
      ],
      "text/plain": [
       "                                                      id_15 listing.rDate_15  \\\n",
       "packageName                                                                    \n",
       "AutomateIt.mainPackage           AutomateIt.mainPackage-157       2015-10-29   \n",
       "Face.Sorter                                  Face.Sorter-70       2015-11-09   \n",
       "GeoWikiMobile.GeoWikiMobile  GeoWikiMobile.GeoWikiMobile-16       2015-09-23   \n",
       "InternetRadio.all                    InternetRadio.all-3855       2015-09-25   \n",
       "MyING.be                                        MyING.be-21       2015-09-08   \n",
       "\n",
       "                             listing.rating_15  versionCode_15 versionName_15  \\\n",
       "packageName                                                                     \n",
       "AutomateIt.mainPackage                     4.2             157        3.0.157   \n",
       "Face.Sorter                                3.3              70            7.0   \n",
       "GeoWikiMobile.GeoWikiMobile                3.4              16          3.0.1   \n",
       "InternetRadio.all                          4.2            3855    3.16.1.3855   \n",
       "MyING.be                                   4.1              21          7.3.0   \n",
       "\n",
       "                                                      id_16 listing.rDate_16  \\\n",
       "packageName                                                                    \n",
       "AutomateIt.mainPackage           AutomateIt.mainPackage-173       2016-02-21   \n",
       "Face.Sorter                                  Face.Sorter-94       2016-01-18   \n",
       "GeoWikiMobile.GeoWikiMobile  GeoWikiMobile.GeoWikiMobile-21       2016-03-14   \n",
       "InternetRadio.all                    InternetRadio.all-6298       2016-03-18   \n",
       "MyING.be                                        MyING.be-22       2016-01-18   \n",
       "\n",
       "                             listing.rating_16  versionCode_16 versionName_16  \n",
       "packageName                                                                    \n",
       "AutomateIt.mainPackage                     4.2             173        3.0.173  \n",
       "Face.Sorter                                3.3              94            9.4  \n",
       "GeoWikiMobile.GeoWikiMobile                3.7              21            3.2  \n",
       "InternetRadio.all                          4.2            6298    3.35.0.6298  \n",
       "MyING.be                                   4.1              22          7.4.0  "
      ]
     },
     "execution_count": 202,
     "metadata": {},
     "output_type": "execute_result"
    }
   ],
   "source": [
    "# merge both 2015 and 2016 data frames\n",
    "df_merged_15_16 = df15_first.join(df16_first, lsuffix='_15',rsuffix='_16', how='inner')\n",
    "df_merged_15_16.head()"
   ]
  },
  {
   "cell_type": "code",
   "execution_count": 203,
   "metadata": {
    "collapsed": false
   },
   "outputs": [
    {
     "data": {
      "text/html": [
       "<div>\n",
       "<table border=\"1\" class=\"dataframe\">\n",
       "  <thead>\n",
       "    <tr style=\"text-align: right;\">\n",
       "      <th></th>\n",
       "      <th>id_15</th>\n",
       "      <th>listing.rDate_15</th>\n",
       "      <th>listing.rating_15</th>\n",
       "      <th>versionCode_15</th>\n",
       "      <th>versionName_15</th>\n",
       "      <th>id_16</th>\n",
       "      <th>listing.rDate_16</th>\n",
       "      <th>listing.rating_16</th>\n",
       "      <th>versionCode_16</th>\n",
       "      <th>versionName_16</th>\n",
       "      <th>ratingDiff</th>\n",
       "    </tr>\n",
       "    <tr>\n",
       "      <th>packageName</th>\n",
       "      <th></th>\n",
       "      <th></th>\n",
       "      <th></th>\n",
       "      <th></th>\n",
       "      <th></th>\n",
       "      <th></th>\n",
       "      <th></th>\n",
       "      <th></th>\n",
       "      <th></th>\n",
       "      <th></th>\n",
       "      <th></th>\n",
       "    </tr>\n",
       "  </thead>\n",
       "  <tbody>\n",
       "    <tr>\n",
       "      <th>AutomateIt.mainPackage</th>\n",
       "      <td>AutomateIt.mainPackage-157</td>\n",
       "      <td>2015-10-29</td>\n",
       "      <td>4.2</td>\n",
       "      <td>157</td>\n",
       "      <td>3.0.157</td>\n",
       "      <td>AutomateIt.mainPackage-173</td>\n",
       "      <td>2016-02-21</td>\n",
       "      <td>4.2</td>\n",
       "      <td>173</td>\n",
       "      <td>3.0.173</td>\n",
       "      <td>0.0</td>\n",
       "    </tr>\n",
       "    <tr>\n",
       "      <th>Face.Sorter</th>\n",
       "      <td>Face.Sorter-70</td>\n",
       "      <td>2015-11-09</td>\n",
       "      <td>3.3</td>\n",
       "      <td>70</td>\n",
       "      <td>7.0</td>\n",
       "      <td>Face.Sorter-94</td>\n",
       "      <td>2016-01-18</td>\n",
       "      <td>3.3</td>\n",
       "      <td>94</td>\n",
       "      <td>9.4</td>\n",
       "      <td>0.0</td>\n",
       "    </tr>\n",
       "    <tr>\n",
       "      <th>GeoWikiMobile.GeoWikiMobile</th>\n",
       "      <td>GeoWikiMobile.GeoWikiMobile-16</td>\n",
       "      <td>2015-09-23</td>\n",
       "      <td>3.4</td>\n",
       "      <td>16</td>\n",
       "      <td>3.0.1</td>\n",
       "      <td>GeoWikiMobile.GeoWikiMobile-21</td>\n",
       "      <td>2016-03-14</td>\n",
       "      <td>3.7</td>\n",
       "      <td>21</td>\n",
       "      <td>3.2</td>\n",
       "      <td>0.3</td>\n",
       "    </tr>\n",
       "    <tr>\n",
       "      <th>InternetRadio.all</th>\n",
       "      <td>InternetRadio.all-3855</td>\n",
       "      <td>2015-09-25</td>\n",
       "      <td>4.2</td>\n",
       "      <td>3855</td>\n",
       "      <td>3.16.1.3855</td>\n",
       "      <td>InternetRadio.all-6298</td>\n",
       "      <td>2016-03-18</td>\n",
       "      <td>4.2</td>\n",
       "      <td>6298</td>\n",
       "      <td>3.35.0.6298</td>\n",
       "      <td>0.0</td>\n",
       "    </tr>\n",
       "    <tr>\n",
       "      <th>MyING.be</th>\n",
       "      <td>MyING.be-21</td>\n",
       "      <td>2015-09-08</td>\n",
       "      <td>4.1</td>\n",
       "      <td>21</td>\n",
       "      <td>7.3.0</td>\n",
       "      <td>MyING.be-22</td>\n",
       "      <td>2016-01-18</td>\n",
       "      <td>4.1</td>\n",
       "      <td>22</td>\n",
       "      <td>7.4.0</td>\n",
       "      <td>0.0</td>\n",
       "    </tr>\n",
       "  </tbody>\n",
       "</table>\n",
       "</div>"
      ],
      "text/plain": [
       "                                                      id_15 listing.rDate_15  \\\n",
       "packageName                                                                    \n",
       "AutomateIt.mainPackage           AutomateIt.mainPackage-157       2015-10-29   \n",
       "Face.Sorter                                  Face.Sorter-70       2015-11-09   \n",
       "GeoWikiMobile.GeoWikiMobile  GeoWikiMobile.GeoWikiMobile-16       2015-09-23   \n",
       "InternetRadio.all                    InternetRadio.all-3855       2015-09-25   \n",
       "MyING.be                                        MyING.be-21       2015-09-08   \n",
       "\n",
       "                             listing.rating_15  versionCode_15 versionName_15  \\\n",
       "packageName                                                                     \n",
       "AutomateIt.mainPackage                     4.2             157        3.0.157   \n",
       "Face.Sorter                                3.3              70            7.0   \n",
       "GeoWikiMobile.GeoWikiMobile                3.4              16          3.0.1   \n",
       "InternetRadio.all                          4.2            3855    3.16.1.3855   \n",
       "MyING.be                                   4.1              21          7.3.0   \n",
       "\n",
       "                                                      id_16 listing.rDate_16  \\\n",
       "packageName                                                                    \n",
       "AutomateIt.mainPackage           AutomateIt.mainPackage-173       2016-02-21   \n",
       "Face.Sorter                                  Face.Sorter-94       2016-01-18   \n",
       "GeoWikiMobile.GeoWikiMobile  GeoWikiMobile.GeoWikiMobile-21       2016-03-14   \n",
       "InternetRadio.all                    InternetRadio.all-6298       2016-03-18   \n",
       "MyING.be                                        MyING.be-22       2016-01-18   \n",
       "\n",
       "                             listing.rating_16  versionCode_16 versionName_16  \\\n",
       "packageName                                                                     \n",
       "AutomateIt.mainPackage                     4.2             173        3.0.173   \n",
       "Face.Sorter                                3.3              94            9.4   \n",
       "GeoWikiMobile.GeoWikiMobile                3.7              21            3.2   \n",
       "InternetRadio.all                          4.2            6298    3.35.0.6298   \n",
       "MyING.be                                   4.1              22          7.4.0   \n",
       "\n",
       "                             ratingDiff  \n",
       "packageName                              \n",
       "AutomateIt.mainPackage              0.0  \n",
       "Face.Sorter                         0.0  \n",
       "GeoWikiMobile.GeoWikiMobile         0.3  \n",
       "InternetRadio.all                   0.0  \n",
       "MyING.be                            0.0  "
      ]
     },
     "execution_count": 203,
     "metadata": {},
     "output_type": "execute_result"
    }
   ],
   "source": [
    "# compute the difference of rating between 2015 and 2016\n",
    "df_merged_15_16['ratingDiff'] = df_merged_15_16['listing.rating_16'] - df_merged_15_16['listing.rating_15']\n",
    "df_merged_15_16.head()"
   ]
  },
  {
   "cell_type": "code",
   "execution_count": 204,
   "metadata": {
    "collapsed": false
   },
   "outputs": [
    {
     "data": {
      "text/plain": [
       "16681"
      ]
     },
     "execution_count": 204,
     "metadata": {},
     "output_type": "execute_result"
    }
   ],
   "source": [
    "len(df_merged_15_16)"
   ]
  },
  {
   "cell_type": "code",
   "execution_count": 208,
   "metadata": {
    "collapsed": false
   },
   "outputs": [
    {
     "data": {
      "text/plain": [
       "0.030226005635153767"
      ]
     },
     "execution_count": 208,
     "metadata": {},
     "output_type": "execute_result"
    }
   ],
   "source": [
    "df_merged_15_16['ratingDiff'].mean()"
   ]
  },
  {
   "cell_type": "code",
   "execution_count": 205,
   "metadata": {
    "collapsed": false
   },
   "outputs": [],
   "source": [
    "rating_down = df_merged_15_16[df_merged_15_16['ratingDiff'] < 0]\n",
    "rating_up = df_merged_15_16[df_merged_15_16['ratingDiff'] > 0]\n",
    "rating_remain = df_merged_15_16[df_merged_15_16['ratingDiff'] == 0]"
   ]
  },
  {
   "cell_type": "code",
   "execution_count": 206,
   "metadata": {
    "collapsed": false
   },
   "outputs": [
    {
     "data": {
      "text/markdown": [
       "## Rating differences between 2015 and 2016 for 16,681 apps"
      ],
      "text/plain": [
       "<IPython.core.display.Markdown object>"
      ]
     },
     "metadata": {},
     "output_type": "display_data"
    }
   ],
   "source": [
    "total = len(df_merged_15_16)\n",
    "display(Markdown(\"## Rating differences between 2015 and 2016 for \" + \"{:,}\".format(total) + \" apps\"))"
   ]
  },
  {
   "cell_type": "code",
   "execution_count": 207,
   "metadata": {
    "collapsed": false
   },
   "outputs": [
    {
     "data": {
      "text/html": [
       "<div id=\"88d3ad7b-dec2-4f30-aba1-ebb856776fc0\" style=\"height: 525; width: 100%;\" class=\"plotly-graph-div\"></div><script type=\"text/javascript\">window.PLOTLYENV=window.PLOTLYENV || {};window.PLOTLYENV.BASE_URL=\"https://plot.ly\";Plotly.newPlot(\"88d3ad7b-dec2-4f30-aba1-ebb856776fc0\", [{\"type\": \"pie\", \"labels\": [\"Rating up\", \"Rating down\", \"No changes\"], \"marker\": {\"colors\": [\"rgb(44, 160, 44)\", \"rgb(214, 39, 40)\", \"rgb(145, 145, 143)\"]}, \"values\": [16.425873748576226, 17.528925124393023, 66.04520112703075]}], {\"title\": \"App Rating Changes between 2015 and 2016\"}, {\"showLink\": true, \"linkText\": \"Export to plot.ly\"})</script>"
      ],
      "text/plain": [
       "<IPython.core.display.HTML object>"
      ]
     },
     "metadata": {},
     "output_type": "display_data"
    }
   ],
   "source": [
    "fig_15_16 = {\n",
    "    'data': [{'labels': ['Rating up', 'Rating down', 'No changes'],\n",
    "              'values': [len(rating_up)/total*100, len(rating_down)/total*100, len(rating_remain)/total*100],\n",
    "              'type': 'pie',\n",
    "              'marker': {'colors': ['rgb(44, 160, 44)', 'rgb(214, 39, 40)', 'rgb(145, 145, 143)']}\n",
    "             }],\n",
    "    'layout': {'title': 'App Rating Changes between 2015 and 2016'}\n",
    "     }\n",
    "\n",
    "iplot(fig_15_16)"
   ]
  },
  {
   "cell_type": "code",
   "execution_count": null,
   "metadata": {
    "collapsed": true
   },
   "outputs": [],
   "source": []
  }
 ],
 "metadata": {
  "kernelspec": {
   "display_name": "Python 3",
   "language": "python",
   "name": "python3"
  },
  "language_info": {
   "codemirror_mode": {
    "name": "ipython",
    "version": 3
   },
   "file_extension": ".py",
   "mimetype": "text/x-python",
   "name": "python",
   "nbconvert_exporter": "python",
   "pygments_lexer": "ipython3",
   "version": "3.4.3"
  }
 },
 "nbformat": 4,
 "nbformat_minor": 0
}
