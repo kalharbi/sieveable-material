{
 "cells": [
  {
   "cell_type": "code",
   "execution_count": 854,
   "metadata": {
    "collapsed": false
   },
   "outputs": [],
   "source": [
    "from plotly.offline import download_plotlyjs, init_notebook_mode, iplot\n",
    "from plotly.graph_objs import *\n",
    "from IPython.display import HTML\n",
    "from IPython.display import display, Image\n",
    "import pandas as pd\n",
    "import numpy as np\n",
    "import datetime as dt\n",
    "from pandas.io.json import json_normalize\n",
    "import json"
   ]
  },
  {
   "cell_type": "code",
   "execution_count": 855,
   "metadata": {
    "collapsed": true
   },
   "outputs": [],
   "source": [
    "# Opens and normalizes the JSON file.\n",
    "# Then, it renames our columns and changes the type of the date column to datetime.\n",
    "def normalizeDataFrame(file_name):\n",
    "    # 1- Open and normalize the JSON file.\n",
    "    with open(file_name) as content:\n",
    "        data = json.load(content)\n",
    "    df = json_normalize(data)\n",
    "    # 2- Rename our columns and change the type of the date column to datetime.\n",
    "    df.columns= ['id', 'n', 'verc', 'downloads', 'rDate']\n",
    "    df['rDate'] = pd.to_datetime(df['rDate'])\n",
    "    return df"
   ]
  },
  {
   "cell_type": "code",
   "execution_count": 856,
   "metadata": {
    "collapsed": false
   },
   "outputs": [
    {
     "data": {
      "text/html": [
       "<h1>Floating Action Button (FAB)</h1>"
      ],
      "text/plain": [
       "<IPython.core.display.HTML object>"
      ]
     },
     "metadata": {},
     "output_type": "display_data"
    },
    {
     "data": {
      "image/png": "[encoded data removed]",
      "text/plain": [
       "<IPython.core.display.Image object>"
      ]
     },
     "metadata": {},
     "output_type": "display_data"
    },
    {
     "data": {
      "text/html": [
       "<h2>When did each app start getting the FAB using the design support library?</h2>"
      ],
      "text/plain": [
       "<IPython.core.display.HTML object>"
      ]
     },
     "metadata": {},
     "output_type": "display_data"
    },
    {
     "data": {
      "text/html": [
       "<div>\n",
       "<table border=\"1\" class=\"dataframe\">\n",
       "  <thead>\n",
       "    <tr style=\"text-align: right;\">\n",
       "      <th></th>\n",
       "      <th>rDate</th>\n",
       "    </tr>\n",
       "    <tr>\n",
       "      <th>n</th>\n",
       "      <th></th>\n",
       "    </tr>\n",
       "  </thead>\n",
       "  <tbody>\n",
       "    <tr>\n",
       "      <th>tatbigy.com.ketegram</th>\n",
       "      <td>2015-06-14</td>\n",
       "    </tr>\n",
       "    <tr>\n",
       "      <th>dream_chaos.java_conf.gr.jp.pokedatabase</th>\n",
       "      <td>2015-06-30</td>\n",
       "    </tr>\n",
       "    <tr>\n",
       "      <th>be.belgacom.imok</th>\n",
       "      <td>2015-07-01</td>\n",
       "    </tr>\n",
       "    <tr>\n",
       "      <th>fr.valquev.leveldown</th>\n",
       "      <td>2015-07-04</td>\n",
       "    </tr>\n",
       "    <tr>\n",
       "      <th>icamerasoftware.app.foscam</th>\n",
       "      <td>2015-07-09</td>\n",
       "    </tr>\n",
       "  </tbody>\n",
       "</table>\n",
       "</div>"
      ],
      "text/plain": [
       "                                              rDate\n",
       "n                                                  \n",
       "tatbigy.com.ketegram                     2015-06-14\n",
       "dream_chaos.java_conf.gr.jp.pokedatabase 2015-06-30\n",
       "be.belgacom.imok                         2015-07-01\n",
       "fr.valquev.leveldown                     2015-07-04\n",
       "icamerasoftware.app.foscam               2015-07-09"
      ]
     },
     "execution_count": 856,
     "metadata": {},
     "output_type": "execute_result"
    }
   ],
   "source": [
    "# FAB using the design support library\n",
    "display(HTML('<h1>Floating Action Button (FAB)</h1>'))\n",
    "display(Image(filename='../images/fab.png'))\n",
    "display(HTML('<h2>When did each app start getting the FAB using the design support library?</h2>'))\n",
    "df = normalizeDataFrame('../data/fab/fab_using_support_lib.json')\n",
    "# Get the release date of the first app version that added this design\n",
    "# Group by package name, aggregate by the first release date, and sort the resulted data frame.\n",
    "rdf = df.groupby('n').agg({'rDate' : np.min}).sort('rDate', ascending=True)\n",
    "rdf.head()"
   ]
  },
  {
   "cell_type": "code",
   "execution_count": 857,
   "metadata": {
    "collapsed": false
   },
   "outputs": [
    {
     "data": {
      "text/html": [
       "<h2>Which month has seen the peak of adding the FAB using the design support library?</h2>"
      ],
      "text/plain": [
       "<IPython.core.display.HTML object>"
      ]
     },
     "metadata": {},
     "output_type": "display_data"
    },
    {
     "name": "stdout",
     "output_type": "stream",
     "text": [
      "November,2015 has 949 apps.\n"
     ]
    },
    {
     "data": {
      "text/html": [
       "<h2>What is the adoption rate over time of adding the FAB using the design support library?</h2>"
      ],
      "text/plain": [
       "<IPython.core.display.HTML object>"
      ]
     },
     "metadata": {},
     "output_type": "display_data"
    },
    {
     "data": {
      "text/html": [
       "<div id=\"3f5b8a6c-a761-42d4-9dfa-589458c071c9\" style=\"height: 525; width: 100%;\" class=\"plotly-graph-div\"></div><script type=\"text/javascript\">window.PLOTLYENV=window.PLOTLYENV || {};window.PLOTLYENV.BASE_URL=\"https://plot.ly\";Plotly.newPlot(\"3f5b8a6c-a761-42d4-9dfa-589458c071c9\", [{\"x\": [\"June 2015\", \"July 2015\", \"August 2015\", \"September 2015\", \"October 2015\", \"November 2015\", \"December 2015\", \"January 2016\", \"February 2016\", \"March 2016\"], \"y\": [2, 11, 20, 80, 250, 949, 571, 481, 307, 211], \"type\": \"bar\"}], {\"yaxis\": {\"title\": \"Apps\"}, \"title\": \"The adoption rate of the Floating Action Button (FAB) using the Design Support Library\", \"showlegend\": false}, {\"showLink\": true, \"linkText\": \"Export to plot.ly\"})</script>"
      ],
      "text/plain": [
       "<IPython.core.display.HTML object>"
      ]
     },
     "metadata": {},
     "output_type": "display_data"
    }
   ],
   "source": [
    "display(HTML('<h2>Which month has seen the peak of adding the FAB using the design support library?</h2>'))\n",
    "tdf = rdf\n",
    "tdf.reset_index(inplace=True)\n",
    "tdf.set_index('rDate', inplace=True)\n",
    "# Group apps by month\n",
    "tdf = tdf.groupby(pd.TimeGrouper(\"M\")).count().sort(ascending=True)\n",
    "tdf.to_csv('../out/fab/fab_using_support_lib_monthly.csv')\n",
    "answer = tdf.sort(columns=['n'], ascending=False)[:1]\n",
    "print(answer.index[0].strftime('%B,%Y') + ' has ' + str(answer['n'].values[0]) + ' apps.')\n",
    "#display(tdf)\n",
    "display(HTML('<h2>What is the adoption rate over time of adding the FAB using the design support library?</h2>'))\n",
    "# Plot\n",
    "layout = Layout(title='The adoption rate of the Floating Action Button (FAB) using the Design Support Library',\n",
    "                showlegend=False,\n",
    "                yaxis= YAxis(title='Apps'))\n",
    "formatted_ticks = tdf.index.map(lambda t: t.strftime('%B %Y'))\n",
    "data = Data([Bar(x=formatted_ticks, y=tdf['n'].tolist())])\n",
    "fig = Figure(data=data, layout=layout)\n",
    "iplot(fig)"
   ]
  },
  {
   "cell_type": "code",
   "execution_count": 859,
   "metadata": {
    "collapsed": false
   },
   "outputs": [
    {
     "data": {
      "text/html": [
       "<h2>What is the adoption rate over time by download count of adding the FAB using the design support library?</h2>"
      ],
      "text/plain": [
       "<IPython.core.display.HTML object>"
      ]
     },
     "metadata": {},
     "output_type": "display_data"
    },
    {
     "data": {
      "text/html": [
       "<div>\n",
       "<table border=\"1\" class=\"dataframe\">\n",
       "  <thead>\n",
       "    <tr style=\"text-align: right;\">\n",
       "      <th></th>\n",
       "      <th></th>\n",
       "      <th>n</th>\n",
       "    </tr>\n",
       "    <tr>\n",
       "      <th>rDate</th>\n",
       "      <th>downloads</th>\n",
       "      <th></th>\n",
       "    </tr>\n",
       "  </thead>\n",
       "  <tbody>\n",
       "    <tr>\n",
       "      <th rowspan=\"2\" valign=\"top\">2015-06-30</th>\n",
       "      <th>5000</th>\n",
       "      <td>1</td>\n",
       "    </tr>\n",
       "    <tr>\n",
       "      <th>10000</th>\n",
       "      <td>1</td>\n",
       "    </tr>\n",
       "    <tr>\n",
       "      <th rowspan=\"3\" valign=\"top\">2015-07-31</th>\n",
       "      <th>10</th>\n",
       "      <td>1</td>\n",
       "    </tr>\n",
       "    <tr>\n",
       "      <th>100</th>\n",
       "      <td>2</td>\n",
       "    </tr>\n",
       "    <tr>\n",
       "      <th>500</th>\n",
       "      <td>2</td>\n",
       "    </tr>\n",
       "  </tbody>\n",
       "</table>\n",
       "</div>"
      ],
      "text/plain": [
       "                      n\n",
       "rDate      downloads   \n",
       "2015-06-30 5000       1\n",
       "           10000      1\n",
       "2015-07-31 10         1\n",
       "           100        2\n",
       "           500        2"
      ]
     },
     "metadata": {},
     "output_type": "display_data"
    }
   ],
   "source": [
    "display(HTML('<h2>What is the adoption rate over time by download count ' +\n",
    "             'of adding the FAB using the design support library?</h2>'))\n",
    "df = normalizeDataFrame('../data/fab/fab_using_support_lib.json')\n",
    "first_release_df = df.groupby(['n'], as_index=False).agg({'rDate' : np.min})\n",
    "\n",
    "download_df = df[['n', 'rDate','downloads']]\n",
    "# merge the first release data frame with the download data frame.\n",
    "merged_df = pd.merge(first_release_df, download_df, on=['n', 'rDate'])\n",
    "\n",
    "# Drop apps that were released twice in the same day\n",
    "merged_unique_df = merged_df.drop_duplicates()\n",
    "# Group them by month and download count\n",
    "result = merged_unique_df.set_index('rDate').groupby([pd.TimeGrouper(\"M\"), 'downloads']).count().sort(ascending=True)\n",
    "display(result.head())\n",
    "result.to_csv('../out/fab/fab_using_support_lib_by_month_nd_downloads.csv')\n"
   ]
  },
  {
   "cell_type": "code",
   "execution_count": 860,
   "metadata": {
    "collapsed": false
   },
   "outputs": [],
   "source": [
    "# Get the Y array for the less 100K trace\n",
    "\n",
    "'''\n",
    "It groups a dataframe by download count into three main groups:\n",
    "1- apps with download counts less than 100K\n",
    "2- apps with download counts greater or equal to 100K and less than 1M\n",
    "3- apps with download counts equal or greater to 1M\n",
    "\n",
    "The expected data frame argument should have multiindex values (rDate and downloads) \n",
    "and look like the following data frame:\n",
    "-------------------------------------\n",
    "   rDate     |   downloads     |  n  |\n",
    "--------------------------------------\n",
    "             |   500           |  2  |\n",
    "  2015-06-30 -------------------------\n",
    "             |   10000         |  4  |\n",
    "--------------------------------------\n",
    "             |   10            |  2  |\n",
    "  2015-06-30 -------------------------\n",
    "             |   100           |  4  |\n",
    "             -------------------------\n",
    "             |   500           |  4  |\n",
    "             -------------------------\n",
    "             |   10000         |  4  |\n",
    "--------------------------------------\n",
    "It returns a dict where each key contains belongs to a group and has a value of \n",
    "dict with keys of date and values of the total apps.\n",
    "'''\n",
    "def group_download_counts(my_df):\n",
    "    less_100K_dict = {}\n",
    "    between_100K_1M_dict = {}\n",
    "    more_than_1M_dict = {}\n",
    "    \n",
    "    for row in my_df.itertuples():\n",
    "        # e.g., row = ((Timestamp('2015-06-30 00:00:00'), 5000), 1)\n",
    "        month_date = row[0][0]\n",
    "        download_count = row[0][1]\n",
    "        apps_count = row[1]\n",
    "        # 1) <100K\n",
    "        if download_count < 100000: # If the download count is less than 100K\n",
    "            #If the date key exists in the resulting dict, add the apps count value to the previous value\n",
    "            if month_date in less_100K_dict:\n",
    "                less_100K_dict[month_date] = less_100K_dict[month_date] + apps_count\n",
    "            else: # initalize with the new value\n",
    "                less_100K_dict[month_date] = apps_count\n",
    "        # 2) >= 100K to < 1M\n",
    "        elif download_count >= 100000 and download_count < 1000000:\n",
    "            if month_date in between_100K_1M_dict:\n",
    "                between_100K_1M_dict[month_date] = between_100K_1M_dict[month_date] + apps_count\n",
    "            else:\n",
    "                between_100K_1M_dict[month_date] = apps_count\n",
    "        # 3) >= 1M\n",
    "        elif download_count >= 1000000:\n",
    "            if month_date in more_than_1M_dict:\n",
    "                more_than_1M_dict[month_date] = more_than_1M_dict[month_date] + apps_count\n",
    "            else:\n",
    "                more_than_1M_dict[month_date] = apps_count\n",
    "    return {'less_100K': less_100K_dict, 'more_100K_less_1M': between_100K_1M_dict, '1M_or_more': more_than_1M_dict}\n",
    "        "
   ]
  },
  {
   "cell_type": "code",
   "execution_count": 861,
   "metadata": {
    "collapsed": false
   },
   "outputs": [
    {
     "data": {
      "text/html": [
       "<div id=\"5045167d-3811-4a98-9da3-f0eee21a20c1\" style=\"height: 525; width: 100%;\" class=\"plotly-graph-div\"></div><script type=\"text/javascript\">window.PLOTLYENV=window.PLOTLYENV || {};window.PLOTLYENV.BASE_URL=\"https://plot.ly\";Plotly.newPlot(\"5045167d-3811-4a98-9da3-f0eee21a20c1\", [{\"x\": [\"July 2015\", \"December 2015\", \"March 2016\", \"September 2015\", \"August 2015\", \"February 2016\", \"November 2015\", \"January 2016\", \"June 2015\", \"October 2015\"], \"name\": \"<100K\", \"type\": \"bar\", \"y\": [11, 357, 125, 73, 18, 198, 574, 372, 2, 202]}, {\"x\": [\"December 2015\", \"March 2016\", \"September 2015\", \"August 2015\", \"February 2016\", \"November 2015\", \"January 2016\", \"October 2015\"], \"name\": \"100K to <1M\", \"type\": \"bar\", \"y\": [115, 52, 6, 2, 56, 207, 80, 37]}, {\"x\": [\"December 2015\", \"March 2016\", \"September 2015\", \"January 2016\", \"February 2016\", \"November 2015\", \"October 2015\"], \"name\": \">=1M\", \"type\": \"bar\", \"y\": [99, 34, 1, 29, 53, 168, 11]}], {\"barmode\": \"stack\"}, {\"showLink\": true, \"linkText\": \"Export to plot.ly\"})</script>"
      ],
      "text/plain": [
       "<IPython.core.display.HTML object>"
      ]
     },
     "metadata": {},
     "output_type": "display_data"
    }
   ],
   "source": [
    "download_groups = group_download_counts(result)\n",
    "def get_xy(group_dict):\n",
    "    x = []\n",
    "    y = []\n",
    "    for key in group_dict:\n",
    "        x.append(key.strftime('%B %Y'))\n",
    "        y.append(group_dict[key])\n",
    "    return (x, y)\n",
    "\n",
    "result_less_100K = get_xy(download_groups['less_100K'])\n",
    "x_less_100K = result_less_100K[0]\n",
    "y_less_100K = result_less_100K[1]\n",
    "\n",
    "result_more_100K_less_1M= get_xy(download_groups['more_100K_less_1M'])\n",
    "x_more_100K_less_1M = result_more_100K_less_1M[0]\n",
    "y_more_100K_less_1M = result_more_100K_less_1M[1]\n",
    "\n",
    "result_1M_or_more= get_xy(download_groups['1M_or_more'])\n",
    "x_1M_or_more = result_1M_or_more[0]\n",
    "y_1M_or_more = result_1M_or_more[1]\n",
    "\n",
    "# Plot\n",
    "trace1 = Bar(\n",
    "    x=x_less_100K,\n",
    "    y=y_less_100K,\n",
    "    name='<100K'\n",
    ")\n",
    "trace2 = Bar(\n",
    "    x=x_more_100K_less_1M,\n",
    "    y=y_more_100K_less_1M,\n",
    "    name='100K to <1M'\n",
    ")\n",
    "trace3 = Bar(\n",
    "    x=x_1M_or_more,\n",
    "    y=y_1M_or_more,\n",
    "    name='>=1M'\n",
    ")\n",
    "data = [trace1, trace2, trace3]\n",
    "layout = Layout(\n",
    "    barmode='stack'\n",
    ")\n",
    "fig = Figure(data=data, layout=layout)\n",
    "iplot(fig)"
   ]
  },
  {
   "cell_type": "code",
   "execution_count": null,
   "metadata": {
    "collapsed": true
   },
   "outputs": [],
   "source": []
  }
 ],
 "metadata": {
  "kernelspec": {
   "display_name": "Python 3",
   "language": "python",
   "name": "python3"
  },
  "language_info": {
   "codemirror_mode": {
    "name": "ipython",
    "version": 3
   },
   "file_extension": ".py",
   "mimetype": "text/x-python",
   "name": "python",
   "nbconvert_exporter": "python",
   "pygments_lexer": "ipython3",
   "version": "3.4.3"
  }
 },
 "nbformat": 4,
 "nbformat_minor": 0
}
